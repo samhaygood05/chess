{
 "cells": [
  {
   "cell_type": "code",
   "execution_count": 2,
   "metadata": {},
   "outputs": [
    {
     "data": {
      "text/plain": [
       "{'pawn': Name: pawn, Moveset: [(1, 0)], Captureset: [(1, -1), (1, 1)], First Move: True, Multimove: False, Directional: True, Promotion: queen, Promotion Row: 0,\n",
       " 'rook': Name: rook, Moveset: [(0, 1), (0, -1), (1, 0), (-1, 0)], Captureset: None, First Move: False, Multimove: True, Directional: False, Promotion: None, Promotion Row: 0,\n",
       " 'bishop': Name: bishop, Moveset: [(-1, -1), (-1, 1), (1, -1), (1, 1)], Captureset: None, First Move: False, Multimove: True, Directional: False, Promotion: None, Promotion Row: 0,\n",
       " 'knight': Name: knight, Moveset: [(2, 1), (2, -1), (-2, 1), (-2, -1), (1, 2), (1, -2), (-1, 2), (-1, -2)], Captureset: None, First Move: False, Multimove: False, Directional: False, Promotion: None, Promotion Row: 0,\n",
       " 'queen': Name: queen, Moveset: [(-1, -1), (-1, 0), (-1, 1), (0, -1), (0, 1), (1, -1), (1, 0), (1, 1)], Captureset: None, First Move: False, Multimove: True, Directional: False, Promotion: None, Promotion Row: 0,\n",
       " 'king': Name: king, Moveset: [(-1, -1), (-1, 0), (-1, 1), (0, -1), (0, 1), (1, -1), (1, 0), (1, 1)], Captureset: None, First Move: False, Multimove: False, Directional: False, Promotion: None, Promotion Row: 0}"
      ]
     },
     "execution_count": 2,
     "metadata": {},
     "output_type": "execute_result"
    }
   ],
   "source": [
    "from rule_set import RuleSet\n",
    "\n",
    "pawn = RuleSet('pawn', [(1, 0)], [(1, -1), (1, 1)], True, False, True, 'queen')\n",
    "rook = RuleSet('rook', [(0, 1), (0, -1), (1, 0), (-1, 0)], None, False, True, False)\n",
    "bishop = RuleSet('bishop', [(-1, -1), (-1, 1), (1, -1), (1, 1)], None, False, True, False)\n",
    "knight = RuleSet('knight', [(2, 1), (2, -1), (-2, 1), (-2, -1), (1, 2), (1, -2), (-1, 2), (-1, -2)], None, False, False, False)\n",
    "queen = RuleSet('queen', [(-1, -1), (-1, 0), (-1, 1), (0, -1), (0, 1), (1, -1), (1, 0), (1, 1)], None, False, True, False)\n",
    "king = RuleSet('king', [(-1, -1), (-1, 0), (-1, 1), (0, -1), (0, 1), (1, -1), (1, 0), (1, 1)], None, False, False, False)\n",
    "\n",
    "RuleSet.rule_dict(pawn, rook, bishop, knight, queen, king)"
   ]
  }
 ],
 "metadata": {
  "interpreter": {
   "hash": "b0fa6594d8f4cbf19f97940f81e996739fb7646882a419484c72d19e05852a7e"
  },
  "kernelspec": {
   "display_name": "Python 3.10.8 64-bit",
   "language": "python",
   "name": "python3"
  },
  "language_info": {
   "codemirror_mode": {
    "name": "ipython",
    "version": 3
   },
   "file_extension": ".py",
   "mimetype": "text/x-python",
   "name": "python",
   "nbconvert_exporter": "python",
   "pygments_lexer": "ipython3",
   "version": "3.10.8"
  },
  "orig_nbformat": 4
 },
 "nbformat": 4,
 "nbformat_minor": 2
}
